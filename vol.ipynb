{
 "cells": [
  {
   "cell_type": "code",
   "execution_count": 2,
   "metadata": {},
   "outputs": [],
   "source": [
    "import pandas as pd\n",
    "import numpy as np"
   ]
  },
  {
   "cell_type": "markdown",
   "metadata": {},
   "source": [
    "# Questa pandas series è l'uscita del codice binario come ti dicevo prima dei momenti che  il valore fora il limite"
   ]
  },
  {
   "cell_type": "code",
   "execution_count": 4,
   "metadata": {},
   "outputs": [
    {
     "data": {
      "text/plain": [
       "0     0\n",
       "1     0\n",
       "2     0\n",
       "3     1\n",
       "4     1\n",
       "5     1\n",
       "6     1\n",
       "7     1\n",
       "8     0\n",
       "9     0\n",
       "10    0\n",
       "11    1\n",
       "12    1\n",
       "13    0\n",
       "14    0\n",
       "15    1\n",
       "16    1\n",
       "17    1\n",
       "18    1\n",
       "19    1\n",
       "20    1\n",
       "21    1\n",
       "22    0\n",
       "23    0\n",
       "24    0\n",
       "25    0\n",
       "26    0\n",
       "27    0\n",
       "dtype: int64"
      ]
     },
     "execution_count": 4,
     "metadata": {},
     "output_type": "execute_result"
    }
   ],
   "source": [
    "a=pd.Series([0,0,0,1,1,1,1,1,0,0,0,1,1,0,0,1,1,1,1,1,1,1,0,0,0,0,0,0])\n",
    "a"
   ]
  },
  {
   "cell_type": "markdown",
   "metadata": {},
   "source": [
    "# Questi quindi i minti che sta fuori dal limite"
   ]
  },
  {
   "cell_type": "code",
   "execution_count": 7,
   "metadata": {},
   "outputs": [
    {
     "data": {
      "text/plain": [
       "0      0\n",
       "1      0\n",
       "2      0\n",
       "3      5\n",
       "4     10\n",
       "5     15\n",
       "6     20\n",
       "7     25\n",
       "8      0\n",
       "9      0\n",
       "10     0\n",
       "11     5\n",
       "12    10\n",
       "13     0\n",
       "14     0\n",
       "15     5\n",
       "16    10\n",
       "17    15\n",
       "18    20\n",
       "19    25\n",
       "20    30\n",
       "21    35\n",
       "22     0\n",
       "23     0\n",
       "24     0\n",
       "25     0\n",
       "26     0\n",
       "27     0\n",
       "Name: test, dtype: int64"
      ]
     },
     "execution_count": 7,
     "metadata": {},
     "output_type": "execute_result"
    }
   ],
   "source": [
    "data = a.to_frame()\n",
    "data[data>0]=\"TMP\"\n",
    "data[data!=\"TMP\"]=0\n",
    "data[data==\"TMP\"]=1\n",
    "data.columns=([\"result\"])\n",
    "data['start_of_streak'] = data['result'].ne(data['result'].shift())\n",
    "data['streak_id'] = data.start_of_streak.cumsum()\n",
    "data['streak_counter'] = data.groupby('streak_id').cumcount() + 1\n",
    "streaks = pd.concat([a, data['streak_counter']], axis=1)\n",
    "streaks[\"test\"]=0\n",
    "streaks[\"test\"]=np.where(streaks.iloc[:,0]!=0,streaks.streak_counter,streaks[\"test\"])\n",
    "streaks[\"test\"]*5"
   ]
  },
  {
   "cell_type": "code",
   "execution_count": null,
   "metadata": {},
   "outputs": [],
   "source": []
  }
 ],
 "metadata": {
  "kernelspec": {
   "display_name": "Python 3",
   "language": "python",
   "name": "python3"
  },
  "language_info": {
   "codemirror_mode": {
    "name": "ipython",
    "version": 3
   },
   "file_extension": ".py",
   "mimetype": "text/x-python",
   "name": "python",
   "nbconvert_exporter": "python",
   "pygments_lexer": "ipython3",
   "version": "3.8.5"
  }
 },
 "nbformat": 4,
 "nbformat_minor": 4
}
